{
  "cells": [
    {
      "cell_type": "markdown",
      "metadata": {
        "colab_type": "text",
        "id": "view-in-github"
      },
      "source": [
        "<a href=\"https://colab.research.google.com/github/sfirdous/data-science/blob/main/ML2/Assignments/multinomial_iris.ipynb\" target=\"_parent\"><img src=\"https://colab.research.google.com/assets/colab-badge.svg\" alt=\"Open In Colab\"/></a>"
      ]
    },
    {
      "cell_type": "markdown",
      "metadata": {
        "id": "ZzGqi2C-omes"
      },
      "source": [
        "# **Assignment 01: Multinomial Classification from Scratch using the Iris Dataset**"
      ]
    },
    {
      "cell_type": "markdown",
      "metadata": {
        "id": "ZgiCje0qo00X"
      },
      "source": [
        "## 1.Load and Prepare the Data\n"
      ]
    },
    {
      "cell_type": "code",
      "execution_count": null,
      "metadata": {
        "id": "bRggHy3_p7jz"
      },
      "outputs": [],
      "source": [
        "# required libraries\n",
        "from sklearn.datasets import load_iris\n",
        "import matplotlib.pyplot as plt\n",
        "import pandas as pd\n",
        "import numpy as np\n",
        "import torch"
      ]
    },
    {
      "cell_type": "code",
      "execution_count": null,
      "metadata": {
        "id": "7u4VLDi260am"
      },
      "outputs": [],
      "source": [
        "# sklearn.datasets.load_iris function to load the dataset.\n",
        "iris = load_iris()\n",
        "\n",
        "# Extract features X and target labels y.\n",
        "X = iris.data\n",
        "y = iris.target\n",
        "\n",
        "# define number of samples and number of categoies\n",
        "N = X.shape[0]\n",
        "K = iris.target_names.shape[0]\n",
        "\n",
        "# number of features\n",
        "d = X.shape[1]\n"
      ]
    },
    {
      "cell_type": "code",
      "execution_count": null,
      "metadata": {
        "id": "6c7NCPQT6seF"
      },
      "outputs": [],
      "source": [
        "# mean and std of each column in feature\n",
        "mean = X.mean(axis = 0)\n",
        "std = X.std(axis = 0)\n",
        "\n",
        "# Normalize the features (mean 0, variance 1).\n",
        "X_normalized = torch.from_numpy((X - mean) / std)"
      ]
    },
    {
      "cell_type": "code",
      "execution_count": null,
      "metadata": {
        "id": "CoiiSJQm6tBb"
      },
      "outputs": [],
      "source": [
        "# Convert target labels to one-hot encoding.\n",
        "\n",
        "# initialize tensor with zeros\n",
        "one_hot_y = torch.zeros(N,K)\n",
        "\n",
        "# populate the one_hot tensor\n",
        "for i,target in enumerate(y):\n",
        "  one_hot_y[i,target] = 1\n"
      ]
    },
    {
      "cell_type": "code",
      "execution_count": null,
      "metadata": {
        "id": "8MrExykSJXHR"
      },
      "outputs": [],
      "source": [
        "# split the dataset into test and train\n",
        "split_ratio = 0.8         # 80% train,20% test\n",
        "\n",
        "# select random indices\n",
        "indices = torch.randperm(N)\n",
        "\n",
        "train_N = int(split_ratio * N)\n",
        "\n",
        "# select train and test indices\n",
        "train_indices = indices[:train_N]\n",
        "test_indices = indices[train_N:]\n",
        "\n",
        "X_train = X_normalized[train_indices]\n",
        "y_train = one_hot_y[train_indices]\n",
        "\n",
        "X_test = X_normalized[test_indices]\n",
        "y_test = one_hot_y[test_indices]\n",
        "\n",
        "test_N = X_test.size(0)\n"
      ]
    },
    {
      "cell_type": "markdown",
      "metadata": {
        "id": "7wBE_O6ho5Jj"
      },
      "source": [
        "## 2.Implement Softmax Regression from Scratch"
      ]
    },
    {
      "cell_type": "code",
      "execution_count": null,
      "metadata": {
        "id": "kACdllZWA99p"
      },
      "outputs": [],
      "source": [
        "# softmax function\n",
        "def softmax(z):\n",
        "  exp_z = torch.exp(z)\n",
        "  return exp_z / torch.sum(exp_z)\n",
        "\n",
        "# Cross-Entropy Loss\n",
        "def cross_entropy_loss(y_hat,y_train):\n",
        "  loss = 0.0\n",
        "  for i in range(train_N):\n",
        "    loss += y_train[i] @ torch.log(y_hat[i].T)\n",
        "  return -loss.item()/train_N"
      ]
    },
    {
      "cell_type": "markdown",
      "metadata": {
        "id": "R-K_bPUcpCtc"
      },
      "source": [
        "## 3.Train the Model"
      ]
    },
    {
      "cell_type": "code",
      "execution_count": null,
      "metadata": {
        "id": "SqqSMnpGDLpX"
      },
      "outputs": [],
      "source": [
        "# Initialize weights W and biases b randomly.\n",
        "torch.manual_seed(4)\n",
        "W = torch.randn(d,K).double()    # 3 weights\n",
        "b = torch.randn(K).double()      # 3 biases for each category\n",
        "\n",
        "# Hyperparameters\n",
        "lr = 0.1\n",
        "epochs = 1000\n",
        "\n",
        "# track loss\n",
        "loss_history = []"
      ]
    },
    {
      "cell_type": "code",
      "execution_count": null,
      "metadata": {
        "colab": {
          "base_uri": "https://localhost:8080/"
        },
        "id": "ukcckMUyGGSL",
        "outputId": "228abc25-185d-489e-9a9e-0a19491e4305"
      },
      "outputs": [
        {
          "name": "stdout",
          "output_type": "stream",
          "text": [
            "Epoch 0: Loss = 0.5799\n",
            "Epoch 50: Loss = 0.2562\n",
            "Epoch 100: Loss = 0.1994\n",
            "Epoch 150: Loss = 0.1569\n",
            "Epoch 200: Loss = 0.1341\n",
            "Epoch 250: Loss = 0.1239\n",
            "Epoch 300: Loss = 0.1160\n",
            "Epoch 350: Loss = 0.1096\n",
            "Epoch 400: Loss = 0.1042\n",
            "Epoch 450: Loss = 0.0997\n",
            "Epoch 500: Loss = 0.0959\n",
            "Epoch 550: Loss = 0.0926\n",
            "Epoch 600: Loss = 0.0897\n",
            "Epoch 650: Loss = 0.0871\n",
            "Epoch 700: Loss = 0.0849\n",
            "Epoch 750: Loss = 0.0828\n",
            "Epoch 800: Loss = 0.0810\n",
            "Epoch 850: Loss = 0.0794\n",
            "Epoch 900: Loss = 0.0779\n",
            "Epoch 950: Loss = 0.0765\n"
          ]
        }
      ],
      "source": [
        "# Training loop\n",
        "for epoch in range(epochs):\n",
        "  # a.Perform forward pass.\n",
        "  Z = X_train @ W + b\n",
        "  y_hat = torch.zeros(train_N,K)\n",
        "\n",
        "  # predicted probability for each sample\n",
        "  for i in range(train_N):\n",
        "    y_hat[i,] = softmax(Z[i])\n",
        "\n",
        "  # b.Compute loss.\n",
        "  loss = cross_entropy_loss(y_hat,y_train)\n",
        "\n",
        "  # c.Compute gradients.\n",
        "  error = y_hat - y_train\n",
        "  grad_w = X_train.T @ error.double()\n",
        "  grad_b = torch.mean(error,dim=0)\n",
        "\n",
        "  # Update weights and biases\n",
        "  W -= lr * grad_w\n",
        "  b -= lr * grad_b\n",
        "\n",
        "  # Track loss\n",
        "  loss_history.append(loss)\n",
        "\n",
        "  # print loss every 50 epochs.\n",
        "  if epoch % 50 == 0:\n",
        "    print(f\"Epoch {epoch}: Loss = {loss:.4f}\")\n",
        "\n"
      ]
    },
    {
      "cell_type": "markdown",
      "metadata": {
        "id": "ItYnj5srpO1Q"
      },
      "source": [
        "## 4.Evaluate the Model"
      ]
    },
    {
      "cell_type": "code",
      "execution_count": null,
      "metadata": {
        "colab": {
          "base_uri": "https://localhost:8080/"
        },
        "id": "zF6j686M1_FY",
        "outputId": "a2fca7d2-6cb1-4e32-f58d-8ebd13b49fe7"
      },
      "outputs": [
        {
          "data": {
            "text/plain": [
              "tensor([[0., 0., 1.],\n",
              "        [0., 0., 1.],\n",
              "        [0., 0., 1.],\n",
              "        [0., 1., 0.],\n",
              "        [1., 0., 0.],\n",
              "        [0., 1., 0.],\n",
              "        [1., 0., 0.],\n",
              "        [0., 1., 0.],\n",
              "        [0., 0., 1.],\n",
              "        [1., 0., 0.],\n",
              "        [0., 1., 0.],\n",
              "        [1., 0., 0.],\n",
              "        [0., 0., 1.],\n",
              "        [0., 0., 1.],\n",
              "        [1., 0., 0.],\n",
              "        [1., 0., 0.],\n",
              "        [1., 0., 0.],\n",
              "        [0., 1., 0.],\n",
              "        [0., 1., 0.],\n",
              "        [0., 1., 0.],\n",
              "        [0., 1., 0.],\n",
              "        [0., 1., 0.],\n",
              "        [0., 1., 0.],\n",
              "        [0., 1., 0.],\n",
              "        [0., 1., 0.],\n",
              "        [0., 0., 1.],\n",
              "        [0., 0., 1.],\n",
              "        [0., 0., 1.],\n",
              "        [1., 0., 0.],\n",
              "        [0., 0., 1.],\n",
              "        [1., 0., 0.],\n",
              "        [0., 1., 0.],\n",
              "        [1., 0., 0.],\n",
              "        [1., 0., 0.],\n",
              "        [0., 0., 1.],\n",
              "        [0., 1., 0.],\n",
              "        [0., 0., 1.],\n",
              "        [0., 0., 1.],\n",
              "        [1., 0., 0.],\n",
              "        [1., 0., 0.],\n",
              "        [0., 0., 1.],\n",
              "        [1., 0., 0.],\n",
              "        [0., 0., 1.],\n",
              "        [1., 0., 0.],\n",
              "        [1., 0., 0.],\n",
              "        [0., 0., 1.],\n",
              "        [1., 0., 0.],\n",
              "        [1., 0., 0.],\n",
              "        [0., 1., 0.],\n",
              "        [0., 1., 0.],\n",
              "        [0., 1., 0.],\n",
              "        [1., 0., 0.],\n",
              "        [1., 0., 0.],\n",
              "        [0., 0., 1.],\n",
              "        [1., 0., 0.],\n",
              "        [0., 1., 0.],\n",
              "        [0., 0., 1.],\n",
              "        [0., 0., 1.],\n",
              "        [0., 1., 0.],\n",
              "        [0., 0., 1.],\n",
              "        [1., 0., 0.],\n",
              "        [0., 0., 1.],\n",
              "        [0., 1., 0.],\n",
              "        [1., 0., 0.],\n",
              "        [1., 0., 0.],\n",
              "        [0., 0., 1.],\n",
              "        [0., 1., 0.],\n",
              "        [1., 0., 0.],\n",
              "        [0., 1., 0.],\n",
              "        [0., 0., 1.],\n",
              "        [0., 0., 1.],\n",
              "        [0., 0., 1.],\n",
              "        [0., 1., 0.],\n",
              "        [0., 1., 0.],\n",
              "        [0., 0., 1.],\n",
              "        [0., 1., 0.],\n",
              "        [1., 0., 0.],\n",
              "        [0., 0., 1.],\n",
              "        [1., 0., 0.],\n",
              "        [0., 1., 0.],\n",
              "        [0., 1., 0.],\n",
              "        [1., 0., 0.],\n",
              "        [0., 0., 1.],\n",
              "        [0., 0., 1.],\n",
              "        [1., 0., 0.],\n",
              "        [1., 0., 0.],\n",
              "        [1., 0., 0.],\n",
              "        [0., 0., 1.],\n",
              "        [0., 0., 1.],\n",
              "        [0., 0., 1.],\n",
              "        [0., 1., 0.],\n",
              "        [1., 0., 0.],\n",
              "        [0., 0., 1.],\n",
              "        [0., 0., 1.],\n",
              "        [1., 0., 0.],\n",
              "        [1., 0., 0.],\n",
              "        [1., 0., 0.],\n",
              "        [0., 1., 0.],\n",
              "        [1., 0., 0.],\n",
              "        [0., 1., 0.],\n",
              "        [1., 0., 0.],\n",
              "        [0., 1., 0.],\n",
              "        [0., 1., 0.],\n",
              "        [1., 0., 0.],\n",
              "        [0., 1., 0.],\n",
              "        [0., 0., 1.],\n",
              "        [1., 0., 0.],\n",
              "        [1., 0., 0.],\n",
              "        [0., 0., 1.],\n",
              "        [0., 0., 1.],\n",
              "        [1., 0., 0.],\n",
              "        [1., 0., 0.],\n",
              "        [0., 1., 0.],\n",
              "        [0., 1., 0.],\n",
              "        [0., 1., 0.],\n",
              "        [0., 0., 1.],\n",
              "        [1., 0., 0.],\n",
              "        [0., 0., 1.],\n",
              "        [0., 1., 0.],\n",
              "        [0., 1., 0.]])"
            ]
          },
          "execution_count": 120,
          "metadata": {},
          "output_type": "execute_result"
        }
      ],
      "source": [
        "# a.Predict labels for the training set.\n",
        "Z_pred = X_train @ W + b\n",
        "y_pred = torch.zeros(train_N,K)\n",
        "\n",
        "# predicted probability for each sample\n",
        "for i in range(train_N):\n",
        "  y_pred[i,] = softmax(Z_pred[i])\n",
        "\n",
        "# convert to one-hot encoding\n",
        "# find the index where maximum value occurs\n",
        "max_indices = torch.argmax(y_pred,dim = 1,keepdim=True)  #shape N,1(150,1)\n",
        "\n",
        "# initialize tensor of same size with zeros\n",
        "one_hot_ypred = torch.zeros_like(y_pred)\n",
        "\n",
        "# add 1 at the index of maximum value\n",
        "one_hot_ypred.scatter_(1,max_indices,1)"
      ]
    },
    {
      "cell_type": "code",
      "execution_count": null,
      "metadata": {
        "colab": {
          "base_uri": "https://localhost:8080/"
        },
        "id": "vNoIxSPD5Y9-",
        "outputId": "f03af539-40c8-49fa-83bf-bf2f7564d349"
      },
      "outputs": [
        {
          "name": "stdout",
          "output_type": "stream",
          "text": [
            "Accuracy: 0.98\n"
          ]
        }
      ],
      "source": [
        "# b.Compute accuracy.\n",
        "\n",
        "# contains index of the class\n",
        "true_classes = torch.argmax(y_train,dim = 1)          #shape: (150,)\n",
        "predicted_classes = torch.argmax(one_hot_ypred,dim = 1) #shape: (150,)\n",
        "\n",
        "# Compare true and predicted classes and compute mean correct\n",
        "correct = (true_classes == predicted_classes).sum()\n",
        "accuracy = correct / train_N\n",
        "print(f'Accuracy: {accuracy.item():.2f}')"
      ]
    },
    {
      "cell_type": "code",
      "execution_count": null,
      "metadata": {
        "colab": {
          "base_uri": "https://localhost:8080/"
        },
        "id": "FA03wb3R6zLW",
        "outputId": "29b73b41-750f-4f1f-a3c9-3e529a2db822"
      },
      "outputs": [
        {
          "name": "stdout",
          "output_type": "stream",
          "text": [
            "tensor([[43.,  0.,  0.],\n",
            "        [ 0., 37.,  2.],\n",
            "        [ 0.,  1., 37.]])\n"
          ]
        }
      ],
      "source": [
        "# c.Display a confusion matrix.\n",
        "confusion_matrix = torch.zeros(K,K)\n",
        "\n",
        "for t,p in zip(true_classes,predicted_classes):\n",
        "  confusion_matrix[t,p] += 1\n",
        "\n",
        "print(confusion_matrix)"
      ]
    },
    {
      "cell_type": "markdown",
      "metadata": {
        "id": "cFRB2ZtH9Ay5"
      },
      "source": [
        "# Loss curve plot"
      ]
    },
    {
      "cell_type": "code",
      "execution_count": null,
      "metadata": {
        "colab": {
          "base_uri": "https://localhost:8080/",
          "height": 472
        },
        "id": "HJ6DJSGz9Mbr",
        "outputId": "256d5a48-c1cf-48cc-8836-814e09d1fb06"
      },
      "outputs": [
        {
          "data": {
            "image/png": "[encoded data removed]",
            "text/plain": [
              "<Figure size 640x480 with 1 Axes>"
            ]
          },
          "metadata": {},
          "output_type": "display_data"
        }
      ],
      "source": [
        "plt.plot(range(epochs),loss_history,'m-')\n",
        "plt.xlabel(\"Epoch\")\n",
        "plt.ylabel(\"Loss\")\n",
        "plt.title(\"Loss over Epochs\")\n",
        "plt.grid(True)\n",
        "plt.show()"
      ]
    },
    {
      "cell_type": "markdown",
      "metadata": {
        "id": "oWmJ9WCJN0N5"
      },
      "source": [
        "# 5. Evaluation on Test Data"
      ]
    },
    {
      "cell_type": "code",
      "execution_count": null,
      "metadata": {
        "colab": {
          "base_uri": "https://localhost:8080/"
        },
        "id": "UBmlXAlyOCx8",
        "outputId": "f78d5d00-1bc4-4b54-8d44-f5336f399774"
      },
      "outputs": [
        {
          "data": {
            "text/plain": [
              "tensor([[0., 1., 0.],\n",
              "        [1., 0., 0.],\n",
              "        [1., 0., 0.],\n",
              "        [0., 0., 1.],\n",
              "        [0., 1., 0.],\n",
              "        [0., 1., 0.],\n",
              "        [0., 0., 1.],\n",
              "        [1., 0., 0.],\n",
              "        [0., 1., 0.],\n",
              "        [1., 0., 0.],\n",
              "        [0., 0., 1.],\n",
              "        [0., 0., 1.],\n",
              "        [0., 1., 0.],\n",
              "        [1., 0., 0.],\n",
              "        [0., 1., 0.],\n",
              "        [0., 0., 1.],\n",
              "        [1., 0., 0.],\n",
              "        [0., 0., 1.],\n",
              "        [0., 1., 0.],\n",
              "        [0., 1., 0.],\n",
              "        [0., 0., 1.],\n",
              "        [0., 1., 0.],\n",
              "        [0., 0., 1.],\n",
              "        [1., 0., 0.],\n",
              "        [0., 0., 1.],\n",
              "        [0., 1., 0.],\n",
              "        [0., 0., 1.],\n",
              "        [0., 0., 1.],\n",
              "        [0., 0., 1.],\n",
              "        [0., 0., 1.]])"
            ]
          },
          "execution_count": 124,
          "metadata": {},
          "output_type": "execute_result"
        }
      ],
      "source": [
        "# a.Predict labels for the training set.\n",
        "Z_pred = X_test @ W + b\n",
        "y_pred = torch.zeros(test_N,K)\n",
        "\n",
        "# predicted probability for each sample\n",
        "for i in range(test_N):\n",
        "  y_pred[i,] = softmax(Z_pred[i])\n",
        "\n",
        "# convert to one-hot encoding\n",
        "# find the index where maximum value occurs\n",
        "max_indices = torch.argmax(y_pred,dim = 1,keepdim=True)  #shape N,1(150,1)\n",
        "\n",
        "# initialize tensor of same size with zeros\n",
        "one_hot_ypred = torch.zeros_like(y_pred)\n",
        "\n",
        "# add 1 at the index of maximum value\n",
        "one_hot_ypred.scatter_(1,max_indices,1)"
      ]
    },
    {
      "cell_type": "code",
      "execution_count": null,
      "metadata": {
        "colab": {
          "base_uri": "https://localhost:8080/"
        },
        "id": "DKUnw1sEOUYW",
        "outputId": "076e1a00-796d-4511-b9a7-b45ec484d673"
      },
      "outputs": [
        {
          "name": "stdout",
          "output_type": "stream",
          "text": [
            "Accuracy: 0.97\n"
          ]
        }
      ],
      "source": [
        "# b.Compute accuracy.\n",
        "\n",
        "# contains index of the class\n",
        "true_classes = torch.argmax(y_test,dim = 1)             #shape: (150,)\n",
        "predicted_classes = torch.argmax(one_hot_ypred,dim = 1) #shape: (150,)\n",
        "\n",
        "# Compare true and predicted classes and compute mean correct\n",
        "correct = (true_classes == predicted_classes).sum()\n",
        "accuracy = correct / test_N\n",
        "print(f'Accuracy: {accuracy.item():.2f}')"
      ]
    },
    {
      "cell_type": "code",
      "execution_count": null,
      "metadata": {
        "colab": {
          "base_uri": "https://localhost:8080/"
        },
        "id": "9RD_88GPOqMT",
        "outputId": "2efde022-2a58-4d13-fd37-81343b6b4165"
      },
      "outputs": [
        {
          "name": "stdout",
          "output_type": "stream",
          "text": [
            "tensor([[ 7.,  0.,  0.],\n",
            "        [ 0., 10.,  1.],\n",
            "        [ 0.,  0., 12.]])\n"
          ]
        }
      ],
      "source": [
        "# c.Display a confusion matrix.\n",
        "confusion_matrix = torch.zeros(K,K)\n",
        "\n",
        "for t,p in zip(true_classes,predicted_classes):\n",
        "  confusion_matrix[t,p] += 1\n",
        "\n",
        "print(confusion_matrix)"
      ]
    },
    {
      "cell_type": "markdown",
      "metadata": {},
      "source": [
        "# Decision Boundary"
      ]
    },
    {
      "cell_type": "code",
      "execution_count": null,
      "metadata": {},
      "outputs": [],
      "source": [
        "plt.scatter(X[:,0],X[:,1],c = one_hot_y,cmap='bwr',alpha = 0.7)\n",
        "x1_range = torch.linspace(X[:,0].min(),X[:,0].max(),150)\n",
        "# print(W[0,:2])\n",
        "x2_boundary = -(W[0,:1]*x1_range+b[0]) / W[1,:1]\n",
        "plt.plot(x1_range,x2_boundary,'k')\n"
      ]
    }
  ],
  "metadata": {
    "colab": {
      "authorship_tag": "ABX9TyNWKyu4iDJEeN/SbTKBi1sj",
      "include_colab_link": true,
      "provenance": []
    },
    "kernelspec": {
      "display_name": "Python 3",
      "name": "python3"
    },
    "language_info": {
      "name": "python"
    }
  },
  "nbformat": 4,
  "nbformat_minor": 0
}
