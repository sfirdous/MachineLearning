{
  "nbformat": 4,
  "nbformat_minor": 0,
  "metadata": {
    "colab": {
      "provenance": []
    },
    "kernelspec": {
      "name": "python3",
      "display_name": "Python 3"
    },
    "language_info": {
      "name": "python"
    }
  },
  "cells": [
    {
      "cell_type": "code",
      "execution_count": 1,
      "metadata": {
        "id": "CKnMSx_np8OE"
      },
      "outputs": [],
      "source": [
        "import torch\n",
        "import numpy as np\n",
        "import random"
      ]
    },
    {
      "cell_type": "code",
      "source": [
        "random.seed(5)"
      ],
      "metadata": {
        "id": "W0u4SoLcHQH-"
      },
      "execution_count": 2,
      "outputs": []
    },
    {
      "cell_type": "code",
      "source": [
        "# Function to calculate distance between two points using euclidean distance\n",
        "def euclidean_distance(point1,point2):\n",
        "  p = len(point1)\n",
        "  distance = 0\n",
        "  for i in range(p):\n",
        "    distance += (point1[i] - point2[i])**2\n",
        "  return np.sqrt(distance)"
      ],
      "metadata": {
        "id": "UJ6N2OYhrhke"
      },
      "execution_count": 3,
      "outputs": []
    },
    {
      "cell_type": "code",
      "source": [
        "# randomly assign each data point a cluster from 0..K\n",
        "def initial_cluster(N,K):\n",
        "  cluster = torch.zeros(N,dtype=int)\n",
        "  for i in range(N):\n",
        "    cluster[i] = random.randrange(0,K)\n",
        "  return cluster"
      ],
      "metadata": {
        "id": "ulTbgULoATgT"
      },
      "execution_count": 4,
      "outputs": []
    },
    {
      "cell_type": "code",
      "source": [
        "# Function to calculate centroid of each cluster returns a tensor of size (Kxp) : K number of classes and p is features\n",
        "def calculate_centroid(K,p,data):\n",
        "  c = initial_cluster(data.size(0),K)\n",
        "  centroids = torch.zeros(K,p)\n",
        "  for k in range(K):\n",
        "    cluster_k = [i for i, val in enumerate(c) if val == k]\n",
        "    for j in range(p):\n",
        "      centroids[k,j] = sum(data[i,j] for i in cluster_k) / len(cluster_k) if len(cluster_k) != 0 else 1\n",
        "  return centroids"
      ],
      "metadata": {
        "id": "Q4_OkNy8B02H"
      },
      "execution_count": 5,
      "outputs": []
    },
    {
      "cell_type": "code",
      "source": [
        "# Function to assign cluster to each data point having min distance from the specific centroid\n",
        "def assign_cluster(clusters,centroids,data,K):\n",
        "  N = data.size(0)\n",
        "  print(clusters)\n",
        "  for i in range(N):\n",
        "    distances = [euclidean_distance(data[i,:],centroids[j,:]) for j in range(K)]\n",
        "    clusters[i] = np.argmin(distances)\n",
        "  print(clusters)\n"
      ],
      "metadata": {
        "id": "YEfMD5HQTai3"
      },
      "execution_count": 23,
      "outputs": []
    },
    {
      "cell_type": "code",
      "source": [
        "def k_means_clustering(K,data):\n",
        "  clusters = initial_cluster(data.size(0),K)\n",
        "\n",
        "  prev_centroid = torch.zeros(K,data.size(1))\n",
        "  centroid = calculate_centroid(K,data.size(1),data)\n",
        "\n",
        "  while(torch.all(torch.abs(centroid - prev_centroid) > 0.0001)):\n",
        "      assign_cluster(clusters,centroid,data,K)\n",
        "      print(clusters)\n",
        "      prev_centroid = centroid\n",
        "      centroid = calculate_centroid(K,data.size(1),data)\n",
        "\n",
        ""
      ],
      "metadata": {
        "id": "AZluXz7JN35o"
      },
      "execution_count": 26,
      "outputs": []
    },
    {
      "cell_type": "code",
      "metadata": {
        "colab": {
          "base_uri": "https://localhost:8080/"
        },
        "id": "fa7ef65c",
        "outputId": "afc586b5-50f1-4caf-938b-d90dcdc3b383"
      },
      "source": [
        "data = torch.rand(6, 2)\n",
        "k_means_clustering(3,data)\n"
      ],
      "execution_count": 30,
      "outputs": [
        {
          "output_type": "stream",
          "name": "stdout",
          "text": [
            "tensor([1, 1, 2, 2, 2, 1])\n",
            "tensor([0, 0, 0, 1, 2, 1])\n",
            "tensor([0, 0, 0, 1, 2, 1])\n",
            "tensor([0, 0, 0, 1, 2, 1])\n",
            "tensor([0, 2, 2, 0, 2, 0])\n",
            "tensor([0, 2, 2, 0, 2, 0])\n",
            "tensor([0, 2, 2, 0, 2, 0])\n",
            "tensor([0, 2, 2, 1, 0, 1])\n",
            "tensor([0, 2, 2, 1, 0, 1])\n",
            "tensor([0, 2, 2, 1, 0, 1])\n",
            "tensor([0, 0, 0, 1, 0, 1])\n",
            "tensor([0, 0, 0, 1, 0, 1])\n",
            "tensor([0, 0, 0, 1, 0, 1])\n",
            "tensor([0, 2, 0, 1, 1, 1])\n",
            "tensor([0, 2, 0, 1, 1, 1])\n",
            "tensor([0, 2, 0, 1, 1, 1])\n",
            "tensor([1, 2, 2, 0, 2, 0])\n",
            "tensor([1, 2, 2, 0, 2, 0])\n",
            "tensor([1, 2, 2, 0, 2, 0])\n",
            "tensor([1, 2, 2, 0, 1, 0])\n",
            "tensor([1, 2, 2, 0, 1, 0])\n",
            "tensor([1, 2, 2, 0, 1, 0])\n",
            "tensor([1, 0, 0, 2, 2, 1])\n",
            "tensor([1, 0, 0, 2, 2, 1])\n",
            "tensor([1, 0, 0, 2, 2, 1])\n",
            "tensor([0, 2, 2, 1, 0, 1])\n",
            "tensor([0, 2, 2, 1, 0, 1])\n",
            "tensor([0, 2, 2, 1, 0, 1])\n",
            "tensor([1, 2, 2, 1, 2, 1])\n",
            "tensor([1, 2, 2, 1, 2, 1])\n",
            "tensor([1, 2, 2, 1, 2, 1])\n",
            "tensor([0, 1, 1, 2, 2, 2])\n",
            "tensor([0, 1, 1, 2, 2, 2])\n",
            "tensor([0, 1, 1, 2, 2, 2])\n",
            "tensor([0, 1, 1, 0, 2, 0])\n",
            "tensor([0, 1, 1, 0, 2, 0])\n",
            "tensor([0, 1, 1, 0, 2, 0])\n",
            "tensor([0, 1, 1, 0, 2, 0])\n",
            "tensor([0, 1, 1, 0, 2, 0])\n",
            "tensor([0, 1, 1, 0, 2, 0])\n",
            "tensor([1, 2, 2, 1, 0, 1])\n",
            "tensor([1, 2, 2, 1, 0, 1])\n",
            "tensor([1, 2, 2, 1, 0, 1])\n",
            "tensor([2, 2, 2, 0, 1, 0])\n",
            "tensor([2, 2, 2, 0, 1, 0])\n",
            "tensor([2, 2, 2, 0, 1, 0])\n",
            "tensor([2, 1, 1, 2, 0, 2])\n",
            "tensor([2, 1, 1, 2, 0, 2])\n",
            "tensor([2, 1, 1, 2, 0, 2])\n",
            "tensor([1, 2, 2, 0, 1, 0])\n",
            "tensor([1, 2, 2, 0, 1, 0])\n",
            "tensor([1, 2, 2, 0, 1, 0])\n",
            "tensor([1, 2, 2, 1, 2, 1])\n",
            "tensor([1, 2, 2, 1, 2, 1])\n",
            "tensor([1, 2, 2, 1, 2, 1])\n",
            "tensor([1, 0, 0, 1, 1, 1])\n",
            "tensor([1, 0, 0, 1, 1, 1])\n",
            "tensor([1, 0, 0, 1, 1, 1])\n",
            "tensor([1, 1, 1, 2, 0, 2])\n",
            "tensor([1, 1, 1, 2, 0, 2])\n",
            "tensor([1, 1, 1, 2, 0, 2])\n",
            "tensor([2, 1, 1, 2, 1, 2])\n",
            "tensor([2, 1, 1, 2, 1, 2])\n",
            "tensor([2, 1, 1, 2, 1, 2])\n",
            "tensor([1, 0, 0, 2, 2, 1])\n",
            "tensor([1, 0, 0, 2, 2, 1])\n",
            "tensor([1, 0, 0, 2, 2, 1])\n",
            "tensor([0, 1, 1, 0, 1, 0])\n",
            "tensor([0, 1, 1, 0, 1, 0])\n",
            "tensor([0, 1, 1, 0, 1, 0])\n",
            "tensor([0, 2, 2, 0, 1, 0])\n",
            "tensor([0, 2, 2, 0, 1, 0])\n",
            "tensor([0, 2, 2, 0, 1, 0])\n",
            "tensor([1, 2, 2, 0, 2, 0])\n",
            "tensor([1, 2, 2, 0, 2, 0])\n",
            "tensor([1, 2, 2, 0, 2, 0])\n",
            "tensor([1, 0, 0, 2, 2, 2])\n",
            "tensor([1, 0, 0, 2, 2, 2])\n",
            "tensor([1, 0, 0, 2, 2, 2])\n",
            "tensor([1, 1, 1, 0, 2, 0])\n",
            "tensor([1, 1, 1, 0, 2, 0])\n",
            "tensor([1, 1, 1, 0, 2, 0])\n",
            "tensor([2, 1, 1, 2, 2, 2])\n",
            "tensor([2, 1, 1, 2, 2, 2])\n",
            "tensor([2, 1, 1, 2, 2, 2])\n",
            "tensor([0, 0, 0, 1, 2, 1])\n",
            "tensor([0, 0, 0, 1, 2, 1])\n",
            "tensor([0, 0, 0, 1, 2, 1])\n",
            "tensor([2, 0, 0, 2, 0, 2])\n",
            "tensor([2, 0, 0, 2, 0, 2])\n",
            "tensor([2, 0, 0, 2, 0, 2])\n",
            "tensor([2, 1, 1, 2, 2, 2])\n",
            "tensor([2, 1, 1, 2, 2, 2])\n"
          ]
        },
        {
          "output_type": "stream",
          "name": "stderr",
          "text": [
            "/tmp/ipython-input-997901266.py:7: DeprecationWarning: __array_wrap__ must accept context and return_scalar arguments (positionally) in the future. (Deprecated NumPy 2.0)\n",
            "  return np.sqrt(distance)\n"
          ]
        }
      ]
    },
    {
      "cell_type": "code",
      "source": [
        "\n",
        "euclidean_distance([0.2,0.9],[0.3,0.4])"
      ],
      "metadata": {
        "colab": {
          "base_uri": "https://localhost:8080/"
        },
        "id": "cHEDoYBLtBlU",
        "outputId": "3b29fdb6-e20c-43dc-cee0-be0ad4abc829"
      },
      "execution_count": null,
      "outputs": [
        {
          "output_type": "execute_result",
          "data": {
            "text/plain": [
              "np.float64(0.5099019513592785)"
            ]
          },
          "metadata": {},
          "execution_count": 12
        }
      ]
    },
    {
      "cell_type": "code",
      "source": [],
      "metadata": {
        "id": "149SXCl7ug95"
      },
      "execution_count": null,
      "outputs": []
    }
  ]
}