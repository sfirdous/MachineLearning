{
  "nbformat": 4,
  "nbformat_minor": 0,
  "metadata": {
    "colab": {
      "provenance": []
    },
    "kernelspec": {
      "name": "python3",
      "display_name": "Python 3"
    },
    "language_info": {
      "name": "python"
    }
  },
  "cells": [
    {
      "cell_type": "code",
      "execution_count": null,
      "metadata": {
        "id": "iqQqU6zb_Q8V"
      },
      "outputs": [],
      "source": [
        "import torch\n",
        "import math\n",
        "from statistics import NormalDist"
      ]
    },
    {
      "cell_type": "code",
      "source": [
        "class NaiveBayes:\n",
        "    def __init__(self,X_train,y_train,X_test,y_test):\n",
        "      self.__X_train = X_train                                        # training dataset\n",
        "      self.__X_test = X_test                                          # data/point to predict class/es\n",
        "      self.__y_train = y_train                                        # training label\n",
        "      self.__y_test = y_test                                          # actual predictions for test data\n",
        "      self.__trainN = self.__X_train.shape[0]                         # number of trainig samples\n",
        "      self.__d = self.__X_train.shape[1]                              # number of features\n",
        "      self.__testN = self.__X_test.shape[0]                           # number of testing samples\n",
        "      self.__K = torch.unique(self.__y_train).size(0)                 # number of classes\n",
        "      # self.__y_pred = torch.tensor(self.predict())                    # predict for train data\n",
        "\n",
        "    @classmethod\n",
        "    def train_test_split(cls,X,y,split_ratio):\n",
        "      # select random indices\n",
        "      indices = torch.randperm(X.size(0))\n",
        "\n",
        "      train_N = int(split_ratio * X.size(0))\n",
        "\n",
        "      train_indices = indices[:train_N]\n",
        "      test_indices = indices[train_N:]\n",
        "\n",
        "      X_train = X[train_indices]\n",
        "      y_train = y[train_indices]\n",
        "\n",
        "      X_test = X[test_indices]\n",
        "      y_test = y[test_indices]\n",
        "\n",
        "      return cls(X_train,y_train,X_test,y_test)\n",
        "\n",
        "    def cal_avg_std(self):\n",
        "      central_measures = torch.empty(0,2);\n",
        "      for i in range(0,self.__K):\n",
        "        if self.__X[:,i].dtype in (int8,int16,int32,int64)\n",
        "      return central_measures\n"
      ],
      "metadata": {
        "id": "uR7zGxHJNhT6"
      },
      "execution_count": null,
      "outputs": []
    },
    {
      "cell_type": "code",
      "metadata": {
        "id": "f9d22511"
      },
      "source": [
        "import torch\n",
        "\n",
        "# Create a float tensor\n",
        "float_tensor = torch.randn(2, 3)\n",
        "\n",
        "# Create an integer tensor\n",
        "int_tensor = torch.tensor([1, 2, 3], dtype=torch.int64)\n",
        "\n",
        "# Create a boolean tensor\n",
        "bool_tensor = torch.tensor([True, False])\n",
        "\n",
        "# Check if the data type is float or int for the float tensor\n",
        "if float_tensor.dtype in (torch.float32, torch.float64):\n",
        "    print(f\"The data type of float_tensor ({float_tensor.dtype}) is a float.\")\n",
        "\n",
        "if float_tensor.dtype in (torch.int8, torch.int16, torch.int32, torch.int64):\n",
        "    print(f\"The data type of float_tensor ({float_tensor.dtype}) is an int.\")\n",
        "\n",
        "if float_tensor.dtype in (torch.float32, torch.float64, torch.int8, torch.int16, torch.int32, torch.int64):\n",
        "    print(f\"The data type of float_tensor ({float_tensor.dtype}) is either float or int.\")\n",
        "\n",
        "\n",
        "print(\"-\" * 20)\n",
        "\n",
        "# Check if the data type is float or int for the integer tensor\n",
        "if int_tensor.dtype in (torch.float32, torch.float64):\n",
        "    print(f\"The data type of int_tensor ({int_tensor.dtype}) is a float.\")\n",
        "\n",
        "if int_tensor.dtype in (torch.int8, torch.int16, torch.int32, torch.int64):\n",
        "    print(f\"The data type of int_tensor ({int_tensor.dtype}) is an int.\")\n",
        "\n",
        "if int_tensor.dtype in (torch.float32, torch.float64, torch.int8, torch.int16, torch.int32, torch.int64):\n",
        "    print(f\"The data type of int_tensor ({int_tensor.dtype}) is either float or int.\")\n",
        "\n",
        "print(\"-\" * 20)\n",
        "\n",
        "# Check if the data type is float or int for the boolean tensor\n",
        "if bool_tensor.dtype in (torch.float32, torch.float64):\n",
        "    print(f\"The data type of bool_tensor ({bool_tensor.dtype}) is a float.\")\n",
        "\n",
        "if bool_tensor.dtype in (torch.int8, torch.int16, torch.int32, torch.int64):\n",
        "    print(f\"The data type of bool_tensor ({bool_tensor.dtype}) is an int.\")\n",
        "\n",
        "if bool_tensor.dtype in (torch.float32, torch.float64, torch.int8, torch.int16, torch.int32, torch.int64):\n",
        "    print(f\"The data type of bool_tensor ({bool_tensor.dtype}) is either float or int.\")"
      ],
      "execution_count": null,
      "outputs": []
    },
    {
      "cell_type": "code",
      "source": [
        "from sklearn.datasets import load_iris\n",
        "iris = load_iris()\n",
        "X = torch.from_numpy(iris.data)\n",
        "y = torch.from_numpy(iris.target)\n",
        "navie_bayes = NaiveBayes.train_test_split(X,y,0.8)\n",
        "navie_bayes.cal_avg_std()\n"
      ],
      "metadata": {
        "id": "EDjkNw_jO-rr",
        "colab": {
          "base_uri": "https://localhost:8080/"
        },
        "outputId": "ec0dc690-ef8a-4701-af9d-9e688735d576"
      },
      "execution_count": null,
      "outputs": [
        {
          "output_type": "execute_result",
          "data": {
            "text/plain": [
              "tensor([], size=(0, 2))"
            ]
          },
          "metadata": {},
          "execution_count": 18
        }
      ]
    },
    {
      "cell_type": "code",
      "metadata": {
        "colab": {
          "base_uri": "https://localhost:8080/"
        },
        "id": "437af2a1",
        "outputId": "c90172ab-92fb-4fe2-d1a7-640a3fdba45c"
      },
      "source": [
        "import torch\n",
        "\n",
        "# Start with an empty tensor with 2 columns\n",
        "my_tensor = torch.empty(0, 2)\n",
        "print(\"Initial empty tensor:\", my_tensor)\n",
        "\n",
        "# Dynamically add rows\n",
        "new_row_1 = torch.tensor([[1, 2]])\n",
        "my_tensor = torch.cat((my_tensor, new_row_1), dim=0)\n",
        "print(\"\\nTensor after adding first row:\\n\", my_tensor)\n",
        "\n",
        "new_row_2 = torch.tensor([[3, 4]])\n",
        "my_tensor = torch.cat((my_tensor, new_row_2), dim=0)\n",
        "print(\"\\nTensor after adding second row:\\n\", my_tensor)"
      ],
      "execution_count": null,
      "outputs": [
        {
          "output_type": "stream",
          "name": "stdout",
          "text": [
            "Initial empty tensor: tensor([], size=(0, 2))\n",
            "\n",
            "Tensor after adding first row:\n",
            " tensor([[1., 2.]])\n",
            "\n",
            "Tensor after adding second row:\n",
            " tensor([[1., 2.],\n",
            "        [3., 4.]])\n"
          ]
        }
      ]
    },
    {
      "cell_type": "code",
      "source": [
        "# convert predicted classes to one hot ecoding\n",
        "# define distribution function\n",
        "# calculate mean and std for quantitative predictors and probability for qualitative predictors\n",
        "# multiply the probabilities for each predictor with individual class probability\n",
        "# assign the class with max prob"
      ],
      "metadata": {
        "id": "2R0plQk4_YWX"
      },
      "execution_count": null,
      "outputs": []
    },
    {
      "cell_type": "code",
      "source": [
        "NormalDist(mu=45,sigma = 5).pdf(30)"
      ],
      "metadata": {
        "colab": {
          "base_uri": "https://localhost:8080/"
        },
        "id": "QOipIfGZAE4y",
        "outputId": "e5f30ddd-8e2f-41bf-c65b-0467899d04c2"
      },
      "execution_count": null,
      "outputs": [
        {
          "output_type": "execute_result",
          "data": {
            "text/plain": [
              "0.0008863696823876014"
            ]
          },
          "metadata": {},
          "execution_count": 12
        }
      ]
    },
    {
      "cell_type": "code",
      "source": [],
      "metadata": {
        "id": "rLu226Z1FTfv"
      },
      "execution_count": null,
      "outputs": []
    }
  ]
}