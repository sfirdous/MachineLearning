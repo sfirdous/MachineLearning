{
  "nbformat": 4,
  "nbformat_minor": 0,
  "metadata": {
    "colab": {
      "provenance": []
    },
    "kernelspec": {
      "name": "python3",
      "display_name": "Python 3"
    },
    "language_info": {
      "name": "python"
    }
  },
  "cells": [
    {
      "cell_type": "code",
      "execution_count": 10,
      "metadata": {
        "id": "iqQqU6zb_Q8V"
      },
      "outputs": [],
      "source": [
        "import torch\n",
        "import math\n",
        "from statistics import NormalDist"
      ]
    },
    {
      "cell_type": "code",
      "source": [
        "# convert predicted classes to one hot ecoding\n",
        "# define distribution function\n",
        "# calculate mean and std for quantitative predictors and probability for qualitative predictors\n",
        "# multiply the probabilities for each predictor with individual class probability\n",
        "# assign the class with max prob"
      ],
      "metadata": {
        "id": "2R0plQk4_YWX"
      },
      "execution_count": 2,
      "outputs": []
    },
    {
      "cell_type": "code",
      "source": [
        "def gaussian_func(mean,std,x):\n",
        "  return math.exp(-(1/2)*((x-mean)/std)**2)/ (std*2*math.pi)\n",
        "\n",
        "NormalDist(mu=45,sigma = 5).pdf(30)"
      ],
      "metadata": {
        "colab": {
          "base_uri": "https://localhost:8080/"
        },
        "id": "QOipIfGZAE4y",
        "outputId": "e5f30ddd-8e2f-41bf-c65b-0467899d04c2"
      },
      "execution_count": 12,
      "outputs": [
        {
          "output_type": "execute_result",
          "data": {
            "text/plain": [
              "0.0008863696823876014"
            ]
          },
          "metadata": {},
          "execution_count": 12
        }
      ]
    },
    {
      "cell_type": "code",
      "source": [],
      "metadata": {
        "id": "rLu226Z1FTfv"
      },
      "execution_count": null,
      "outputs": []
    }
  ]
}