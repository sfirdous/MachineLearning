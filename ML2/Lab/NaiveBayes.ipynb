{
  "nbformat": 4,
  "nbformat_minor": 0,
  "metadata": {
    "colab": {
      "provenance": []
    },
    "kernelspec": {
      "name": "python3",
      "display_name": "Python 3"
    },
    "language_info": {
      "name": "python"
    }
  },
  "cells": [
    {
      "cell_type": "code",
      "execution_count": 111,
      "metadata": {
        "id": "iqQqU6zb_Q8V"
      },
      "outputs": [],
      "source": [
        "import torch\n",
        "import math\n",
        "from statistics import NormalDist\n",
        "import numpy as np"
      ]
    },
    {
      "cell_type": "code",
      "source": [
        "def train_test_split(X,y,split_ratio):\n",
        "  # select random indices\n",
        "  indices = torch.randperm(X.size(0))\n",
        "\n",
        "  train_N = int(split_ratio * X.size(0))\n",
        "\n",
        "  train_indices = indices[:train_N]\n",
        "  test_indices = indices[train_N:]\n",
        "\n",
        "  X_train = X[train_indices]\n",
        "  y_train = y[train_indices]\n",
        "\n",
        "  X_test = X[test_indices]\n",
        "  y_test = y[test_indices]\n",
        "\n",
        "  return X_train,y_train,X_test,y_test"
      ],
      "metadata": {
        "id": "Sxdh1b3t_of6"
      },
      "execution_count": 20,
      "outputs": []
    },
    {
      "cell_type": "code",
      "source": [
        "# class NaiveBayes:\n",
        "#     def __init__(self):\n",
        "          # self.__N\n",
        "          # self.__K\n",
        "          # self.__d\n",
        "          # self.__prior_probs\n",
        "          # self.__measures\n",
        "          # self.__con_indices\n",
        "          # self.__cat_indices\n"
      ],
      "metadata": {
        "id": "uR7zGxHJNhT6"
      },
      "execution_count": 5,
      "outputs": []
    },
    {
      "cell_type": "code",
      "source": [
        "def one_hot_encoder(y_train):\n",
        "  N = y_train.size(0)                       # number of examples\n",
        "  K = torch.unique(y_train).numel()         # number of classes\n",
        "\n",
        "  y_train_OHE = torch.zeros(N,K)            # one_hot_ecoded y_train if size N,K\n",
        "\n",
        "  for i,target in enumerate(y_train):\n",
        "    y_train_OHE[i,target] = 1\n",
        "\n",
        "  return y_train_OHE"
      ],
      "metadata": {
        "id": "2OJ8YDb16BTU"
      },
      "execution_count": 6,
      "outputs": []
    },
    {
      "cell_type": "code",
      "source": [
        "def cal_prior_prob(one_hot_y):\n",
        "  N = one_hot_y.size(0)\n",
        "  K = one_hot_y.size(1)\n",
        "  prior_probs = torch.zeros(K)\n",
        "\n",
        "  for i in range(K):\n",
        "     prior_probs[i] = (one_hot_y[:,i].sum()).item()/N\n",
        "\n",
        "  return prior_probs"
      ],
      "metadata": {
        "id": "g8MJThGTEmPr"
      },
      "execution_count": 7,
      "outputs": []
    },
    {
      "cell_type": "code",
      "source": [
        "def get_con_cat_indices(X_train):\n",
        "  d = X_train.size(1)\n",
        "  con_indices = torch.empty(0,dtype = torch.int64)                                                                  # tensor to store indices of continous features\n",
        "  cat_indices = torch.empty(0,dtype = torch.int64)                                                                  # tensor to store indices of categorical features\n",
        "\n",
        "  for i in range(d):\n",
        "    if(X_train[:,i].dtype in (torch.float32, torch.float64, torch.int8, torch.int16, torch.int32, torch.int64)):    # if ith column is continous\n",
        "      con_indices = torch.cat((con_indices,torch.tensor([i],dtype = torch.int64)),0)                                # add i to con_indices\n",
        "    else:\n",
        "      cat_indices = torch.cat((cat_indices,torch.tensor([i],dtype = torch.int64)),0)\n",
        "\n",
        "  return con_indices,cat_indices"
      ],
      "metadata": {
        "id": "V4LhwawdJYhi"
      },
      "execution_count": 92,
      "outputs": []
    },
    {
      "cell_type": "code",
      "source": [
        "def cal_central_measures(X_train,y_train_encoded,con_indices):\n",
        "\n",
        "  central_measures = torch.zeros(2,con_indices.size(0))\n",
        "\n",
        "  class_indices = torch.where(y_train_encoded == 1)[0]        # only select indices for the class i.e 1\n",
        "  class_data = X_train[class_indices,:]                       # select only rows having those indices\n",
        "\n",
        "  # calculate mean and std deviation of particular class for each feature\n",
        "  for _,i in enumerate(con_indices):\n",
        "    central_measures[0,i] = class_data[:,i].mean()\n",
        "    central_measures[1,i] = class_data[:,i].std()\n",
        "\n",
        "  return central_measures\n",
        ""
      ],
      "metadata": {
        "id": "rTEvKYzUmrng"
      },
      "execution_count": 91,
      "outputs": []
    },
    {
      "cell_type": "code",
      "source": [
        "def train(X_train,y_train):\n",
        "  N = y_train.size(0)                       # number of examples\n",
        "  classes = torch.unique(y_train)           # unique classes in y_train\n",
        "  K = torch.unique(y_train).numel()         # number of classes\n",
        "\n",
        "  y_encode  = one_hot_encoder(y_train)      # convert y_train to one hot encoding\n",
        "\n",
        "  con_indices,cat_indices = get_con_cat_indices(X_train)\n",
        "  measures = {}\n",
        "  for i,c in enumerate(classes):\n",
        "    measures[c.item()] = []\n",
        "    measures[c.item()].append(cal_central_measures(X_train,y_encode[:,c],con_indices))\n",
        "\n",
        "\n",
        "  return measures                         # store this as data member (latter)\n"
      ],
      "metadata": {
        "id": "XPYAtw-FcDbV"
      },
      "execution_count": 105,
      "outputs": []
    },
    {
      "cell_type": "code",
      "source": [
        "def predict(X_test,measures):\n",
        "  con_indices,cat_indices = get_con_cat_indices(X_test)\n",
        "  likely_hood = torch.zeros(len(measures),dtype=torch.float64)\n",
        "  for key in measures:\n",
        "    for i in range(con_indices.size(0)):\n",
        "        mean = measures[key][0][0,i]\n",
        "        std = measures[key][0][1,i]\n",
        "        print(NormalDist(mu=mean,sigma = std).pdf(X_test[1,1]))\n",
        "        likely_hood[key] = likely_hood[key]*NormalDist(mu=mean,sigma = std).pdf(X_test[1,1])\n",
        "        print(likely_hood)\n"
      ],
      "metadata": {
        "id": "035AddN1z651"
      },
      "execution_count": 131,
      "outputs": []
    },
    {
      "cell_type": "code",
      "source": [
        "from sklearn.datasets import load_iris\n",
        "iris = load_iris()\n",
        "X = torch.from_numpy(iris.data)\n",
        "y = torch.from_numpy(iris.target)"
      ],
      "metadata": {
        "id": "qPG2Qo1JBmn_"
      },
      "execution_count": 9,
      "outputs": []
    },
    {
      "cell_type": "code",
      "source": [
        "X_train,y_train,X_test,y_test = train_test_split(X,y,split_ratio=0.8)"
      ],
      "metadata": {
        "id": "lUZzklNorx_5"
      },
      "execution_count": 67,
      "outputs": []
    },
    {
      "cell_type": "code",
      "source": [
        "measures = train(X_train,y_train)\n",
        "predict(X_test,measures)\n",
        "measures[0][0][:,0]\n",
        "# print(get_con_cat_indices(X_train))"
      ],
      "metadata": {
        "colab": {
          "base_uri": "https://localhost:8080/"
        },
        "id": "CuCWYDXBBRA0",
        "outputId": "74d2150e-5124-47a0-d9cf-67ab9e5678ac"
      },
      "execution_count": 132,
      "outputs": [
        {
          "output_type": "stream",
          "name": "stdout",
          "text": [
            "1.66408437123977e-09\n",
            "tensor([0., 0., 0.], dtype=torch.float64)\n",
            "0.32633771071715834\n",
            "tensor([0., 0., 0.], dtype=torch.float64)\n",
            "6.48748780161734e-16\n",
            "tensor([0., 0., 0.], dtype=torch.float64)\n",
            "1.3205050666794725e-120\n",
            "tensor([0., 0., 0.], dtype=torch.float64)\n",
            "1.6045734965206583e-10\n",
            "tensor([0., 0., 0.], dtype=torch.float64)\n",
            "1.4594950568942828\n",
            "tensor([0., 0., 0.], dtype=torch.float64)\n",
            "0.003984489699844291\n",
            "tensor([0., 0., 0.], dtype=torch.float64)\n",
            "2.964540344621994e-14\n",
            "tensor([0., 0., 0.], dtype=torch.float64)\n",
            "1.214310279509541e-07\n",
            "tensor([0., 0., 0.], dtype=torch.float64)\n",
            "1.0077048457941016\n",
            "tensor([0., 0., 0.], dtype=torch.float64)\n",
            "8.313724086150534e-06\n",
            "tensor([0., 0., 0.], dtype=torch.float64)\n",
            "0.03886204998595281\n",
            "tensor([0., 0., 0.], dtype=torch.float64)\n"
          ]
        },
        {
          "output_type": "execute_result",
          "data": {
            "text/plain": [
              "tensor([4.9850, 0.3424])"
            ]
          },
          "metadata": {},
          "execution_count": 132
        }
      ]
    },
    {
      "cell_type": "code",
      "source": [
        "# convert predicted classes to one hot ecoding\n",
        "# define distribution function\n",
        "# calculate mean and std for quantitative predictors and probability for qualitative predictors\n",
        "# multiply the probabilities for each predictor with individual class probability\n",
        "# assign the class with max prob"
      ],
      "metadata": {
        "id": "2R0plQk4_YWX"
      },
      "execution_count": null,
      "outputs": []
    },
    {
      "cell_type": "code",
      "source": [
        "NormalDist(mu=45,sigma = 5).pdf(30)"
      ],
      "metadata": {
        "colab": {
          "base_uri": "https://localhost:8080/"
        },
        "id": "QOipIfGZAE4y",
        "outputId": "e5f30ddd-8e2f-41bf-c65b-0467899d04c2"
      },
      "execution_count": null,
      "outputs": [
        {
          "output_type": "execute_result",
          "data": {
            "text/plain": [
              "0.0008863696823876014"
            ]
          },
          "metadata": {},
          "execution_count": 12
        }
      ]
    },
    {
      "cell_type": "code",
      "source": [],
      "metadata": {
        "id": "rLu226Z1FTfv"
      },
      "execution_count": null,
      "outputs": []
    }
  ]
}