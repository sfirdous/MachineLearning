{
  "nbformat": 4,
  "nbformat_minor": 0,
  "metadata": {
    "colab": {
      "provenance": [],
      "authorship_tag": "ABX9TyMBcKUZ6RGe63+LTP7+vawt",
      "include_colab_link": true
    },
    "kernelspec": {
      "name": "python3",
      "display_name": "Python 3"
    },
    "language_info": {
      "name": "python"
    }
  },
  "cells": [
    {
      "cell_type": "markdown",
      "metadata": {
        "id": "view-in-github",
        "colab_type": "text"
      },
      "source": [
        "<a href=\"https://colab.research.google.com/github/sfirdous/MachineLearning/blob/main/ML2/Lab/KNN.ipynb\" target=\"_parent\"><img src=\"https://colab.research.google.com/assets/colab-badge.svg\" alt=\"Open In Colab\"/></a>"
      ]
    },
    {
      "cell_type": "code",
      "execution_count": 5,
      "metadata": {
        "id": "A6Ye3PjZMLid"
      },
      "outputs": [],
      "source": [
        "from sklearn.datasets import load_iris\n",
        "import torch"
      ]
    },
    {
      "cell_type": "code",
      "source": [
        "class KNearestNeighbour():\n",
        "  def __init__(self,X,y):\n",
        "    self.__N = X.shape[0]         # number of samples\n",
        "    self.__d = X.shape[1]         # number of features\n",
        "\n",
        "\n",
        "  def train_test_split(self,X,y,split_ratio):\n",
        "    # select random indices\n",
        "    indices = torch.randperm(self.__N)\n",
        "\n",
        "    train_N = int(split_ratio * self.__N)\n",
        "\n",
        "    train_indices = indices[:train_N]\n",
        "    test_indices = indices[train_N:]\n",
        "\n",
        "    X_train = X[train_indices]\n",
        "    y_train = y[train_indices]\n",
        "\n",
        "    X_test = X[test_indices]\n",
        "    y_test = X[test_indices]\n",
        "\n",
        "\n",
        "\n"
      ],
      "metadata": {
        "id": "t-csdC71MThs"
      },
      "execution_count": 6,
      "outputs": []
    }
  ]
}