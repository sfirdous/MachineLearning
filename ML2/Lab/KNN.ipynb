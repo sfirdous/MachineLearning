{
  "nbformat": 4,
  "nbformat_minor": 0,
  "metadata": {
    "colab": {
      "provenance": []
    },
    "kernelspec": {
      "name": "python3",
      "display_name": "Python 3"
    },
    "language_info": {
      "name": "python"
    }
  },
  "cells": [
    {
      "cell_type": "markdown",
      "source": [
        "# **K-Nearest Neighbors (KNN) Class Implementation in Python**"
      ],
      "metadata": {
        "id": "nUC7CSfzZ0ja"
      }
    },
    {
      "cell_type": "code",
      "execution_count": 1,
      "metadata": {
        "id": "A6Ye3PjZMLid"
      },
      "outputs": [],
      "source": [
        "# required libraries\n",
        "from sklearn.datasets import load_iris\n",
        "import torch"
      ]
    },
    {
      "cell_type": "code",
      "source": [
        "class KNearestNeighbor():\n",
        "  def __init__(self,X_train,y_train,X_test,k = 5):\n",
        "    self.__X_train = X_train                   # training dataset\n",
        "    self.__X_test = X_test                     # data/point to predict class/es\n",
        "    self.__trainN = self.__X_train.shape[0]    # number of trainig samples\n",
        "    self.__d = self.__X_train.shape[1]         # number of features\n",
        "    self.__testN = self.__X_test.shape[0]      # number of testing samples\n",
        "    self.__k = k                               # neighbors to consider\n",
        "\n",
        "\n",
        "  @classmethod\n",
        "  def train_test_split(cls,X,y,split_ratio,k = 5):\n",
        "    # select random indices\n",
        "    indices = torch.randperm(X.size(0))\n",
        "\n",
        "    train_N = int(split_ratio * X.size(0))\n",
        "\n",
        "    train_indices = indices[:train_N]\n",
        "    test_indices = indices[train_N:]\n",
        "\n",
        "    X_train = X[train_indices]\n",
        "    y_train = y[train_indices]\n",
        "\n",
        "    X_test = X[test_indices]\n",
        "    y_test = X[test_indices]\n",
        "\n",
        "    return cls(X_train,y_train,X_test,k)\n",
        "\n",
        "  def euclidean_distance(self,point1,point2):\n",
        "      try:\n",
        "        n = len(point1)\n",
        "        distance = 0\n",
        "        for i in range(n):\n",
        "          distance += (point1[i] - point2[i])**2\n",
        "        return torch.sqrt(distance)\n",
        "      except Exception as e:                            # Raise Exception if point1 and point2 are of different dimension\n",
        "        print(f'Exception: {type(e).__name__} - {e}')\n",
        "\n",
        "  def calculate_distance(self):\n",
        "    distances = []\n",
        "    for i in range(self.__testN):\n",
        "      test = self.__X_test[i]\n",
        "      distances = [(i,self.euclidean_distance(train,test)) for i,train in enumerate(self.__X_train)]\n",
        "    return distances\n"
      ],
      "metadata": {
        "id": "t-csdC71MThs"
      },
      "execution_count": 49,
      "outputs": []
    },
    {
      "cell_type": "markdown",
      "source": [
        "# **Evaluating KNN Class on Iris Dataset**"
      ],
      "metadata": {
        "id": "e5IoCqPoaR84"
      }
    },
    {
      "cell_type": "code",
      "source": [
        "iris = load_iris()\n",
        "X  = torch.from_numpy(iris.data)\n",
        "y = torch.from_numpy(iris.target)\n",
        "\n",
        "obj = KNearestNeighbor.train_test_split(X,y,0.8)\n",
        "result =  obj.calculate_distance()\n",
        "print(type(result))"
      ],
      "metadata": {
        "id": "JI2gmJpaYkd2",
        "colab": {
          "base_uri": "https://localhost:8080/"
        },
        "outputId": "10af2f20-7f76-46ae-aec3-0ff97a3442a6"
      },
      "execution_count": 50,
      "outputs": [
        {
          "output_type": "stream",
          "name": "stdout",
          "text": [
            "<class 'list'>\n"
          ]
        }
      ]
    }
  ]
}