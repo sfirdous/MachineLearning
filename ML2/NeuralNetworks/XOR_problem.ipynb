{
  "nbformat": 4,
  "nbformat_minor": 0,
  "metadata": {
    "colab": {
      "provenance": []
    },
    "kernelspec": {
      "name": "python3",
      "display_name": "Python 3"
    },
    "language_info": {
      "name": "python"
    }
  },
  "cells": [
    {
      "cell_type": "code",
      "execution_count": 1,
      "metadata": {
        "id": "Ylw5rY2OX9Do"
      },
      "outputs": [],
      "source": [
        "import torch\n",
        "import torch.nn as nn\n",
        "import torch.nn.functional as F\n",
        "import matplotlib.pyplot as plt\n",
        "import numpy as np\n",
        "import imageio"
      ]
    },
    {
      "cell_type": "code",
      "source": [
        "# XOR dataset\n",
        "X = torch.tensor([[0,0],[0,1],[1,0],[1,1]],dtype = torch.float32)\n",
        "y = torch.tensor([0,1,1,0],dtype = torch.long)"
      ],
      "metadata": {
        "id": "QcQkbpqwYMWx"
      },
      "execution_count": 2,
      "outputs": []
    },
    {
      "cell_type": "code",
      "source": [
        "# MLP with one hidden layer\n",
        "class XORNN(nn.Module):\n",
        "  def __init__(self):\n",
        "    super().__init__()\n",
        "    self.fc1 = nn.Linear(2,4)         # hidden layer: takes 2 inputs, outputs 4 values\n",
        "    self.fc2 = nn.Linear(4,2)         # output layer  takes 4 inputs, outputs 2 values\n",
        "\n",
        "  def forward(self,x):\n",
        "    x = torch.tanh(self.fc1(x))       # nonlinear hidden layer because of tanh\n",
        "    x = self.fc2(x)                   # logits since it performs only linear transformation on output of previous layer\n",
        "    return x"
      ],
      "metadata": {
        "id": "SaYtu3UWtKrW"
      },
      "execution_count": 3,
      "outputs": []
    },
    {
      "cell_type": "code",
      "source": [
        "model = XORNN()\n",
        "print(model)"
      ],
      "metadata": {
        "colab": {
          "base_uri": "https://localhost:8080/"
        },
        "id": "2mmlbDay3SdT",
        "outputId": "51d773aa-2202-4be5-9a24-1e52ed89cb64"
      },
      "execution_count": 4,
      "outputs": [
        {
          "output_type": "stream",
          "name": "stdout",
          "text": [
            "XORNN(\n",
            "  (fc1): Linear(in_features=2, out_features=4, bias=True)\n",
            "  (fc2): Linear(in_features=4, out_features=2, bias=True)\n",
            ")\n"
          ]
        }
      ]
    },
    {
      "cell_type": "code",
      "source": [
        "optimizer = torch.optim.SGD(model.parameters(),lr = 0.1)    # torch.optim.SGD is a class that implements SGD\n",
        "                                                            # model.parameters() pass all parameters of model to class so that it knows what to update\n",
        "                                                            # learning rate = 0.1\n",
        "criterion = nn.CrossEntropyLoss()                           # object of CrossEntropy loss uses softmax to convert logits to prob and then calculates negative log-likelyhood\n"
      ],
      "metadata": {
        "id": "FFF4emaY3hTT"
      },
      "execution_count": 5,
      "outputs": []
    },
    {
      "cell_type": "code",
      "source": [
        "frames = []\n",
        "\n",
        "def plot_decision_boundary(epoch):\n",
        "  xx,yy = np.meshgrid(np.linspace(-0.5,1.5,200),np.linspace(-0.5,1.5,200))\n",
        "  grid = torch.tensor(np.c_[xx.ravel(),yy.ravel()],dtype = torch.float32)       # flatten's the xx and yy by ravel() .c_ creates pairs\n",
        "  with torch.no_grad():\n",
        "    logits = model(grid)\n",
        "    Z = torch.argmax(F.softmax(logits,dim=1),axis=1).reshape(xx.shape)\n",
        "    print(Z)\n",
        "\n",
        "    plt.figure(figsize=(5,5))\n",
        "    plt.contourf(xx,yy,Z,alpha = 0.6,cmap = \"coolwarm\")\n",
        "    plt.scatter(X[:,0],X[:,1],c=y,cmap = \"coolwarm\",edgecolors = \"k\",s=100)\n",
        "    plt.title(f\"Decisio Boundary at Epoch {epoch}\")\n",
        "    plt.savefig(f\"frame_{epoch}.png\")\n",
        "    plt.close()\n",
        "    frames.append(imageio.imread(f\"frame_{epoch}.png\"))\n"
      ],
      "metadata": {
        "id": "yag2rbGB8bQN"
      },
      "execution_count": 7,
      "outputs": []
    },
    {
      "cell_type": "code",
      "source": [
        "# Training loop\n",
        "epochs = 2000\n",
        "for epoch in range(epochs):\n",
        "  logits = model(X)\n",
        "  loss = criterion(logits,y)          # CrossEntropy loss has a callable interface that allows objects to be used as interface\n",
        "\n",
        "  optimizer.zero_grad()               # sets gradient to zero before computing new grad\n",
        "  loss.backward()                     # computes gradients of loss\n",
        "  optimizer.step()                    # updates the model parameters\n",
        "\n",
        "  if epoch % 200 == 0:\n",
        "    print(f\"Epoch {epoch}/{epochs}, Loss = {loss.item():.4f}\")\n",
        "    plot_decision_boundary(epoch)\n"
      ],
      "metadata": {
        "id": "rtMocTWDBvD7",
        "colab": {
          "base_uri": "https://localhost:8080/"
        },
        "outputId": "26536aee-cc61-47a7-bf03-50c50fed0f26"
      },
      "execution_count": 8,
      "outputs": [
        {
          "output_type": "stream",
          "name": "stdout",
          "text": [
            "Epoch 0/2000, Loss = 0.7385\n",
            "tensor([[1, 1, 1,  ..., 0, 0, 0],\n",
            "        [1, 1, 1,  ..., 0, 0, 0],\n",
            "        [1, 1, 1,  ..., 0, 0, 0],\n",
            "        ...,\n",
            "        [0, 0, 0,  ..., 0, 0, 0],\n",
            "        [0, 0, 0,  ..., 0, 0, 0],\n",
            "        [0, 0, 0,  ..., 0, 0, 0]])\n"
          ]
        },
        {
          "output_type": "stream",
          "name": "stderr",
          "text": [
            "/tmp/ipython-input-348359000.py:17: DeprecationWarning: Starting with ImageIO v3 the behavior of this function will switch to that of iio.v3.imread. To keep the current behavior (and make this warning disappear) use `import imageio.v2 as imageio` or call `imageio.v2.imread` directly.\n",
            "  frames.append(imageio.imread(f\"frame_{epoch}.png\"))\n"
          ]
        },
        {
          "output_type": "stream",
          "name": "stdout",
          "text": [
            "Epoch 200/2000, Loss = 0.6433\n",
            "tensor([[1, 1, 1,  ..., 1, 1, 1],\n",
            "        [1, 1, 1,  ..., 1, 1, 1],\n",
            "        [1, 1, 1,  ..., 1, 1, 1],\n",
            "        ...,\n",
            "        [0, 0, 0,  ..., 0, 0, 0],\n",
            "        [0, 0, 0,  ..., 0, 0, 0],\n",
            "        [0, 0, 0,  ..., 0, 0, 0]])\n",
            "Epoch 400/2000, Loss = 0.3670\n",
            "tensor([[0, 0, 0,  ..., 1, 1, 1],\n",
            "        [0, 0, 0,  ..., 1, 1, 1],\n",
            "        [0, 0, 0,  ..., 1, 1, 1],\n",
            "        ...,\n",
            "        [1, 1, 1,  ..., 0, 0, 0],\n",
            "        [1, 1, 1,  ..., 0, 0, 0],\n",
            "        [1, 1, 1,  ..., 0, 0, 0]])\n",
            "Epoch 600/2000, Loss = 0.0779\n",
            "tensor([[0, 0, 0,  ..., 1, 1, 1],\n",
            "        [0, 0, 0,  ..., 1, 1, 1],\n",
            "        [0, 0, 0,  ..., 1, 1, 1],\n",
            "        ...,\n",
            "        [1, 1, 1,  ..., 0, 0, 0],\n",
            "        [1, 1, 1,  ..., 0, 0, 0],\n",
            "        [1, 1, 1,  ..., 0, 0, 0]])\n",
            "Epoch 800/2000, Loss = 0.0310\n",
            "tensor([[0, 0, 0,  ..., 1, 1, 1],\n",
            "        [0, 0, 0,  ..., 1, 1, 1],\n",
            "        [0, 0, 0,  ..., 1, 1, 1],\n",
            "        ...,\n",
            "        [1, 1, 1,  ..., 0, 0, 0],\n",
            "        [1, 1, 1,  ..., 0, 0, 0],\n",
            "        [1, 1, 1,  ..., 0, 0, 0]])\n",
            "Epoch 1000/2000, Loss = 0.0181\n",
            "tensor([[0, 0, 0,  ..., 1, 1, 1],\n",
            "        [0, 0, 0,  ..., 1, 1, 1],\n",
            "        [0, 0, 0,  ..., 1, 1, 1],\n",
            "        ...,\n",
            "        [1, 1, 1,  ..., 0, 0, 0],\n",
            "        [1, 1, 1,  ..., 0, 0, 0],\n",
            "        [1, 1, 1,  ..., 0, 0, 0]])\n",
            "Epoch 1200/2000, Loss = 0.0125\n",
            "tensor([[0, 0, 0,  ..., 1, 1, 1],\n",
            "        [0, 0, 0,  ..., 1, 1, 1],\n",
            "        [0, 0, 0,  ..., 1, 1, 1],\n",
            "        ...,\n",
            "        [1, 1, 1,  ..., 0, 0, 0],\n",
            "        [1, 1, 1,  ..., 0, 0, 0],\n",
            "        [1, 1, 1,  ..., 0, 0, 0]])\n",
            "Epoch 1400/2000, Loss = 0.0095\n",
            "tensor([[0, 0, 0,  ..., 1, 1, 1],\n",
            "        [0, 0, 0,  ..., 1, 1, 1],\n",
            "        [0, 0, 0,  ..., 1, 1, 1],\n",
            "        ...,\n",
            "        [1, 1, 1,  ..., 0, 0, 0],\n",
            "        [1, 1, 1,  ..., 0, 0, 0],\n",
            "        [1, 1, 1,  ..., 0, 0, 0]])\n",
            "Epoch 1600/2000, Loss = 0.0076\n",
            "tensor([[0, 0, 0,  ..., 1, 1, 1],\n",
            "        [0, 0, 0,  ..., 1, 1, 1],\n",
            "        [0, 0, 0,  ..., 1, 1, 1],\n",
            "        ...,\n",
            "        [1, 1, 1,  ..., 0, 0, 0],\n",
            "        [1, 1, 1,  ..., 0, 0, 0],\n",
            "        [1, 1, 1,  ..., 0, 0, 0]])\n",
            "Epoch 1800/2000, Loss = 0.0063\n",
            "tensor([[0, 0, 0,  ..., 1, 1, 1],\n",
            "        [0, 0, 0,  ..., 1, 1, 1],\n",
            "        [0, 0, 0,  ..., 1, 1, 1],\n",
            "        ...,\n",
            "        [1, 1, 1,  ..., 0, 0, 0],\n",
            "        [1, 1, 1,  ..., 0, 0, 0],\n",
            "        [1, 1, 1,  ..., 0, 0, 0]])\n"
          ]
        }
      ]
    },
    {
      "cell_type": "code",
      "source": [
        "imageio.mimsave(\"xor_solution.gif\",frames,fps=3)\n",
        "print(\"✅ Training complete — GIF saved as xor_solution.gif\")"
      ],
      "metadata": {
        "colab": {
          "base_uri": "https://localhost:8080/"
        },
        "id": "QdjmPKOUBUxu",
        "outputId": "92ab7a4f-1cd3-4e19-fe6f-681706996ca8"
      },
      "execution_count": null,
      "outputs": [
        {
          "output_type": "stream",
          "name": "stdout",
          "text": [
            "✅ Training complete — GIF saved as xor_solution.gif\n"
          ]
        }
      ]
    }
  ]
}