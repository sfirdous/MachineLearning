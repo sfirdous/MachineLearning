{
  "nbformat": 4,
  "nbformat_minor": 0,
  "metadata": {
    "colab": {
      "provenance": [],
      "authorship_tag": "ABX9TyNwzqnqBoqWym1erqzxvsFO",
      "include_colab_link": true
    },
    "kernelspec": {
      "name": "python3",
      "display_name": "Python 3"
    },
    "language_info": {
      "name": "python"
    }
  },
  "cells": [
    {
      "cell_type": "markdown",
      "metadata": {
        "id": "view-in-github",
        "colab_type": "text"
      },
      "source": [
        "<a href=\"https://colab.research.google.com/github/sfirdous/data-science/blob/main/ML2/LinearModels/binarylogisitc_regression.ipynb\" target=\"_parent\"><img src=\"https://colab.research.google.com/assets/colab-badge.svg\" alt=\"Open In Colab\"/></a>"
      ]
    },
    {
      "cell_type": "code",
      "execution_count": 7,
      "metadata": {
        "id": "WxTFne1x4zNe"
      },
      "outputs": [],
      "source": [
        "import torch\n",
        "import numpy as np"
      ]
    },
    {
      "cell_type": "code",
      "source": [
        "torch.manual_seed(4)\n",
        "X = torch.randn(100,2)\n",
        "w = torch.tensor([1.0,9.0])\n",
        "b = 0.2\n",
        "logits = X @ w + b\n",
        "y = (torch.sigmoid(logits) > 0.5).float()"
      ],
      "metadata": {
        "id": "tjCMF5265gkq"
      },
      "execution_count": 6,
      "outputs": []
    },
    {
      "cell_type": "code",
      "source": [
        "w_pred = torch.tensor(2,requires_grad=False)\n",
        "b_pred = torch.tensor(1,requires_grad=False)"
      ],
      "metadata": {
        "id": "QZvn6BSx6k2y"
      },
      "execution_count": 8,
      "outputs": []
    },
    {
      "cell_type": "code",
      "source": [
        "# Hyperparameters\n",
        "lr = 0.1\n",
        "epochs = 100\n",
        "\n",
        "# sigmod function\n",
        "def sigmoid(z):\n",
        "  return 1 / (1+torch.exp(-z))\n"
      ],
      "metadata": {
        "id": "o7XMQYFG6_jm"
      },
      "execution_count": null,
      "outputs": []
    }
  ]
}